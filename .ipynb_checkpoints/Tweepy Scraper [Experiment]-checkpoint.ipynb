{
 "cells": [
  {
   "cell_type": "code",
   "execution_count": null,
   "metadata": {},
   "outputs": [],
   "source": [
    "#Import the necessary methods from tweepy library\n",
    "from tweepy.streaming import StreamListener\n",
    "from tweepy import OAuthHandler\n",
    "from tweepy import Stream\n",
    "\n",
    "#Variables that contains the user credentials to access Twitter API \n",
    "access_token = \"631295964-fl5Ad9zT78eVJjROpSe6sG6UxoDShUya4z8Ay5HN\"\n",
    "access_token_secret = \"jF1iwN3ZvIJpFCZZ97fxW2rs05iUIKKZIpdHLvRnmWWuW\"\n",
    "consumer_key = \"yvzvxbethA10da4Rbq7Qd0pe6\"\n",
    "consumer_secret = \"hQZqiJc1w7tYPVHgwq7tyFnw2eWRCjyDnjAFcZHzsKgn2ZCdgY\"\n",
    "\n",
    "\n",
    "#This is a basic listener that just prints received tweets to stdout.\n",
    "class StdOutListener(StreamListener):\n",
    "\n",
    "    def on_data(self, data):\n",
    "        print(data)\n",
    "        return True\n",
    "\n",
    "    def on_error(self, status):\n",
    "        print(status)\n",
    "\n",
    "\n",
    "if __name__ == '__main__':\n",
    "\n",
    "    #This handles Twitter authetification and the connection to Twitter Streaming API\n",
    "    l = StdOutListener()\n",
    "    auth = OAuthHandler(consumer_key, consumer_secret)\n",
    "    auth.set_access_token(access_token, access_token_secret)\n",
    "    stream = Stream(auth, l)\n",
    "\n",
    "    #This line filter Twitter Streams to capture data by the keywords: 'python', 'javascript', 'ruby'\n",
    "    stream.filter(track=['crypto','cryptocurrency','bitcoin','blockchain', 'ripple','xrp','ethereum'])"
   ]
  },
  {
   "cell_type": "code",
   "execution_count": 19,
   "metadata": {},
   "outputs": [
    {
     "name": "stdout",
     "output_type": "stream",
     "text": [
      "RT @ValaAfshar: Advice to my younger self:\n",
      "\n",
      "1 read and write more\n",
      "2 networking is about giving\n",
      "3 practice public speaking\n",
      "4 best way to lea…\n",
      "Talented employees commit when: \n",
      "\n",
      "1 great manager\n",
      "2 competitive pay \n",
      "3 career path\n",
      "4 customer centric culture\n",
      "5 goo… https://t.co/P85lQjFuEY\n",
      "RT @brandonlgtaylor: Uhm. Y E S. https://t.co/kmcEH4lr2y\n",
      "Sanders said: “The President filed an extension for his 2017 tax return, as do many Americans with complex returns.… https://t.co/owL52SR0eq\n",
      "Behold! It is Comey! The FBI Man who is both Good and Bad! https://t.co/OMpqQqLgJx https://t.co/xHxbNkzIow\n",
      "I just read something by @AlfordAlice that was so good I am crying and cheering.\n",
      "President Trump has filed an extension for his 2017 tax return, White House press secretary Sarah Sanders confirms.\n",
      "RT @ChadHGriffin: This is a terrible loss. Donna Red Wing dedicated her life to fighting for LGBTQ equality, and our country is a better pl…\n",
      "Also, it sounds like they're sharing their own strategy: Blame someone else to cover up their own poor performance.\n",
      "RT @lkearneyvideo: This made me exceptionally happy. https://t.co/Vo8g1qgbup\n",
      "Our planet is on the brink. Here's how we save it https://t.co/0QlunNPdQV #environment https://t.co/ysslLoyrWT\n",
      "If a war breaks out between Iceland and New Zealand, it might be over the merits of Hawaiian pizza https://t.co/L4o7gimevf\n",
      "Kudlow says TPP reconsideration is more of a ‘thought than a policy’ https://t.co/dvuCjLChb5 https://t.co/ARZmYGRQrt\n",
      "Author @daniellevalore takes #UnrulyBodies into the world of fiction with a poignant short story on modern romance… https://t.co/TQxPDWtN88\n",
      "RT @stonewalluk: We welcome that @theresa_may deeply regrets the fact that anti-LGBT laws were introduced &amp; legacy of discrimination. Now w…\n",
      "All my favorites!!! https://t.co/l5Q0L1zGkW\n",
      "\"Do I worry more about the motivations of a machine that does not exist, or the unseen maliciousness of man? I worr… https://t.co/qAqchjsFye\n",
      "Tesla's PR and HR leadership follow the kill-the-messenger, blame-the-victim (and the journalist!) approach. Not a… https://t.co/0Suh0gO6t5\n",
      "Better economic models would help raise the living standards of billions of people https://t.co/0xjvctPRRE\n"
     ]
    }
   ],
   "source": [
    "import tweepy\n",
    "\n",
    "access_token = \"631295964-fl5Ad9zT78eVJjROpSe6sG6UxoDShUya4z8Ay5HN\"\n",
    "access_token_secret = \"jF1iwN3ZvIJpFCZZ97fxW2rs05iUIKKZIpdHLvRnmWWuW\"\n",
    "consumer_key = \"yvzvxbethA10da4Rbq7Qd0pe6\"\n",
    "consumer_secret = \"hQZqiJc1w7tYPVHgwq7tyFnw2eWRCjyDnjAFcZHzsKgn2ZCdgY\"\n",
    "\n",
    "\n",
    "auth = tweepy.OAuthHandler(consumer_key, consumer_secret)\n",
    "auth.set_access_token(access_token, access_token_secret)\n",
    "\n",
    "api = tweepy.API(auth)\n",
    "\n",
    "public_tweets = api.home_timeline()\n",
    "for tweet in public_tweets:\n",
    "    print(tweet.text)"
   ]
  },
  {
   "cell_type": "code",
   "execution_count": 13,
   "metadata": {},
   "outputs": [],
   "source": [
    "auth = tweepy.OAuthHandler(consumer_key, consumer_secret)"
   ]
  },
  {
   "cell_type": "code",
   "execution_count": 16,
   "metadata": {},
   "outputs": [],
   "source": [
    "try:\n",
    "    redirect_url = auth.get_authorization_url()\n",
    "except tweepy.TweepError:\n",
    "    print('Error! Failed to get request token.')"
   ]
  }
 ],
 "metadata": {
  "kernelspec": {
   "display_name": "Python 3",
   "language": "python",
   "name": "python3"
  },
  "language_info": {
   "codemirror_mode": {
    "name": "ipython",
    "version": 3
   },
   "file_extension": ".py",
   "mimetype": "text/x-python",
   "name": "python",
   "nbconvert_exporter": "python",
   "pygments_lexer": "ipython3",
   "version": "3.6.4"
  }
 },
 "nbformat": 4,
 "nbformat_minor": 2
}
